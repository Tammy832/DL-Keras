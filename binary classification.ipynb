{
 "cells": [
  {
   "cell_type": "code",
   "execution_count": null,
   "metadata": {},
   "outputs": [],
   "source": [
    "'''\n",
    "載入IMDB資料集\n",
    "'''\n",
    "from keras.datasets import imdb\n",
    "\n",
    "(train_data, train_labels), (test_data, test_labels) = imdb.load_data(num_words = 10000)"
   ]
  },
  {
   "cell_type": "code",
   "execution_count": 9,
   "metadata": {},
   "outputs": [
    {
     "name": "stdout",
     "output_type": "stream",
     "text": [
      "[1, 14, 22, 16, 43, 530, 973, 1622, 1385, 65, 458, 4468, 66, 3941, 4, 173, 36, 256, 5, 25, 100, 43, 838, 112, 50, 670, 2, 9, 35, 480, 284, 5, 150, 4, 172, 112, 167, 2, 336, 385, 39, 4, 172, 4536, 1111, 17, 546, 38, 13, 447, 4, 192, 50, 16, 6, 147, 2025, 19, 14, 22, 4, 1920, 4613, 469, 4, 22, 71, 87, 12, 16, 43, 530, 38, 76, 15, 13, 1247, 4, 22, 17, 515, 17, 12, 16, 626, 18, 2, 5, 62, 386, 12, 8, 316, 8, 106, 5, 4, 2223, 5244, 16, 480, 66, 3785, 33, 4, 130, 12, 16, 38, 619, 5, 25, 124, 51, 36, 135, 48, 25, 1415, 33, 6, 22, 12, 215, 28, 77, 52, 5, 14, 407, 16, 82, 2, 8, 4, 107, 117, 5952, 15, 256, 4, 2, 7, 3766, 5, 723, 36, 71, 43, 530, 476, 26, 400, 317, 46, 7, 4, 2, 1029, 13, 104, 88, 4, 381, 15, 297, 98, 32, 2071, 56, 26, 141, 6, 194, 7486, 18, 4, 226, 22, 21, 134, 476, 26, 480, 5, 144, 30, 5535, 18, 51, 36, 28, 224, 92, 25, 104, 4, 226, 65, 16, 38, 1334, 88, 12, 16, 283, 5, 16, 4472, 113, 103, 32, 15, 16, 5345, 19, 178, 32]\n",
      "1\n"
     ]
    }
   ],
   "source": [
    "print(train_data[0]) # 取得第一筆評論\n",
    "print(train_labels[10]) # 取得第十筆評論是否為正面? # 1:正面; 0:負面"
   ]
  },
  {
   "cell_type": "code",
   "execution_count": 13,
   "metadata": {},
   "outputs": [
    {
     "name": "stdout",
     "output_type": "stream",
     "text": [
      "comment: this film was just brilliant casting location scenery story direction everyone's really suited the part they played and you could just imagine being there robert comment: is an amazing actor and now the same being director comment: father came from the same scottish island as myself so i loved the fact there was a real connection with this film the witty remarks throughout the film were great it was just brilliant so much that i bought the film as soon as it was released for comment: and would recommend it to everyone to watch and the fly fishing was amazing really cried at the end it was so sad and you know what they say if you cry at a film it must have been good and this definitely was also comment: to the two little boy's that played the comment: of norman and paul they were just brilliant children are often left out of the comment: list i think because the stars that play them all grown up are such a big profile for the whole film but these children are amazing and should be praised for what they have done don't you think the whole story was so lovely because it was true and was someone's life after all that was shared with us all\n"
     ]
    }
   ],
   "source": [
    "# 取得評論內容\n",
    "word_index = imdb.get_word_index()\n",
    "reverse_word_index = dict([(value, key) for (key, value) in word_index.items()])\n",
    "decoded_review = ' '.join([reverse_word_index.get(i - 3, 'comment:') for i in train_data[0]])\n",
    "print(decoded_review)"
   ]
  },
  {
   "cell_type": "code",
   "execution_count": null,
   "metadata": {},
   "outputs": [],
   "source": [
    "'''\n",
    "將2層的整數list編碼成二元矩陣\n",
    "'''\n",
    "import numpy as np\n",
    "\n",
    "def vectorize_sequences(sequences, dimension = 10000): # 此參數將傳入2層的list\n",
    "    results = np.zeros((len(sequences), dimension)) # 建立全為0的矩陣,其形狀為(len(sequences), dimension),其中len(sequences)為樣本數\n",
    "    for i, sequence in enumerate(sequences): # 用enumerate()為每個子串列編號,編號會存到i, 子串列存到sequence\n",
    "        results[i, sequence] = 1. # 將results[i]中的多個元素(以sequence串列的每個元素值為索引)設為1.0\n",
    "    return results\n",
    "\n",
    "x_train = vectorize_sequences(train_data) # 將訓練資料向量化\n",
    "x_test = vectorize_sequences(test_data) # 將測試資料向量化\n",
    "y_train = np.asarray(train_labels).astype('float32')\n",
    "y_test = np.asarray(test_labels).astype('float32')"
   ]
  },
  {
   "cell_type": "code",
   "execution_count": 35,
   "metadata": {},
   "outputs": [
    {
     "data": {
      "text/plain": [
       "array([0., 1., 1., ..., 0., 0., 0.])"
      ]
     },
     "execution_count": 35,
     "metadata": {},
     "output_type": "execute_result"
    }
   ],
   "source": [
    "x_train[0] # 顯示第0列向量 #印出的array由0與1組成"
   ]
  },
  {
   "cell_type": "code",
   "execution_count": 36,
   "metadata": {},
   "outputs": [],
   "source": [
    "'''\n",
    "模型定義\n",
    "'''\n",
    "from keras import models\n",
    "from keras import layers\n",
    "\n",
    "model = models.Sequential() #使用models模組的Sequential類別,建立一個物件讓新增的神經網路層可以進行堆疊\n",
    "model.add(layers.Dense(16, activation = 'relu', input_shape = (10000, ))) # 輸入層亦是隱藏層\n",
    "model.add(layers.Dense(16, activation = 'relu')) # 隱藏層\n",
    "model.add(layers.Dense(16, activation = 'relu')) # 隱藏層\n",
    "model.add(layers.Dense(1, activation = 'sigmoid')) # 輸出層"
   ]
  },
  {
   "cell_type": "code",
   "execution_count": 37,
   "metadata": {},
   "outputs": [],
   "source": [
    "'''\n",
    "編譯模型\n",
    "'''\n",
    "# 指定損失函數,並進行compile\n",
    "model.compile(optimizer = 'rmsprop',\n",
    "             loss = 'binary_crossentropy',\n",
    "             metrics = ['accuracy'])"
   ]
  },
  {
   "cell_type": "code",
   "execution_count": 38,
   "metadata": {},
   "outputs": [],
   "source": [
    "'''\n",
    "調整優化器, 自己定義損失函數與metrics函數\n",
    "'''\n",
    "from keras import optimizers\n",
    "from keras import losses\n",
    "from keras import metrics\n",
    "\n",
    "model.compile(optimizer = optimizers.RMSprop(lr = 0.001),\n",
    "             loss = losses.binary_crossentropy,\n",
    "             metrics = [metrics.binary_accuracy])"
   ]
  },
  {
   "cell_type": "code",
   "execution_count": 39,
   "metadata": {},
   "outputs": [],
   "source": [
    "'''\n",
    "設定驗證資料集\n",
    "'''\n",
    "x_val = x_train[:10000] # 取輸入資料前10000個做為驗證資料集\n",
    "partial_x_train = x_train[10000:] # 輸入資料的第10000個開始為訓練資料\n",
    "\n",
    "y_val = y_train[:10000] # 取輸入資料前10000個做為驗證標籤\n",
    "partial_y_train = y_train[10000:] # 輸入資料的第10000個開始為訓練標籤"
   ]
  },
  {
   "cell_type": "code",
   "execution_count": 40,
   "metadata": {},
   "outputs": [
    {
     "name": "stdout",
     "output_type": "stream",
     "text": [
      "Train on 15000 samples, validate on 10000 samples\n",
      "Epoch 1/20\n",
      "15000/15000 [==============================] - 122s 8ms/step - loss: 0.5265 - acc: 0.7707 - val_loss: 0.3947 - val_acc: 0.8586\n",
      "Epoch 2/20\n",
      "15000/15000 [==============================] - 33s 2ms/step - loss: 0.3031 - acc: 0.9027 - val_loss: 0.3352 - val_acc: 0.8642\n",
      "Epoch 3/20\n",
      "15000/15000 [==============================] - 11s 732us/step - loss: 0.2189 - acc: 0.9274 - val_loss: 0.3223 - val_acc: 0.8693\n",
      "Epoch 4/20\n",
      "15000/15000 [==============================] - 11s 749us/step - loss: 0.1715 - acc: 0.9432 - val_loss: 0.2765 - val_acc: 0.8883\n",
      "Epoch 5/20\n",
      "15000/15000 [==============================] - 12s 768us/step - loss: 0.1367 - acc: 0.9559 - val_loss: 0.2951 - val_acc: 0.8851\n",
      "Epoch 6/20\n",
      "15000/15000 [==============================] - 15s 984us/step - loss: 0.1113 - acc: 0.9650 - val_loss: 0.3084 - val_acc: 0.8840\n",
      "Epoch 7/20\n",
      "15000/15000 [==============================] - 14s 951us/step - loss: 0.0909 - acc: 0.9730 - val_loss: 0.3841 - val_acc: 0.8679\n",
      "Epoch 8/20\n",
      "15000/15000 [==============================] - 11s 713us/step - loss: 0.0731 - acc: 0.9790 - val_loss: 0.3544 - val_acc: 0.8803\n",
      "Epoch 9/20\n",
      "15000/15000 [==============================] - 12s 789us/step - loss: 0.0572 - acc: 0.9853 - val_loss: 0.4093 - val_acc: 0.8727\n",
      "Epoch 10/20\n",
      "15000/15000 [==============================] - 14s 945us/step - loss: 0.0485 - acc: 0.9875 - val_loss: 0.4155 - val_acc: 0.8784\n",
      "Epoch 11/20\n",
      "15000/15000 [==============================] - 11s 759us/step - loss: 0.0362 - acc: 0.9912 - val_loss: 0.4500 - val_acc: 0.8755\n",
      "Epoch 12/20\n",
      "15000/15000 [==============================] - 16s 1ms/step - loss: 0.0318 - acc: 0.9919 - val_loss: 0.4812 - val_acc: 0.8722\n",
      "Epoch 13/20\n",
      "15000/15000 [==============================] - 11s 739us/step - loss: 0.0184 - acc: 0.9975 - val_loss: 0.6204 - val_acc: 0.8550\n",
      "Epoch 14/20\n",
      "15000/15000 [==============================] - 17s 1ms/step - loss: 0.0211 - acc: 0.9953 - val_loss: 0.5372 - val_acc: 0.8710\n",
      "Epoch 15/20\n",
      "15000/15000 [==============================] - 13s 882us/step - loss: 0.0116 - acc: 0.9982 - val_loss: 0.5863 - val_acc: 0.8695\n",
      "Epoch 16/20\n",
      "15000/15000 [==============================] - 15s 1ms/step - loss: 0.0066 - acc: 0.9996 - val_loss: 0.6135 - val_acc: 0.8677\n",
      "Epoch 17/20\n",
      "15000/15000 [==============================] - 15s 1ms/step - loss: 0.0113 - acc: 0.9972 - val_loss: 0.6378 - val_acc: 0.8698\n",
      "Epoch 18/20\n",
      "15000/15000 [==============================] - 21s 1ms/step - loss: 0.0030 - acc: 0.9998 - val_loss: 0.6754 - val_acc: 0.8674\n",
      "Epoch 19/20\n",
      "15000/15000 [==============================] - 14s 959us/step - loss: 0.0106 - acc: 0.9971 - val_loss: 0.7109 - val_acc: 0.8678\n",
      "Epoch 20/20\n",
      "15000/15000 [==============================] - 13s 835us/step - loss: 0.0016 - acc: 0.9999 - val_loss: 0.7386 - val_acc: 0.8665\n"
     ]
    }
   ],
   "source": [
    "'''\n",
    "訓練模型\n",
    "'''\n",
    "model.compile(optimizer = 'rmsprop',\n",
    "             loss = 'binary_crossentropy',\n",
    "             metrics = ['accuracy']) # 建立訓練模型\n",
    "\n",
    "history = model.fit(partial_x_train, \n",
    "                    partial_y_train,\n",
    "                    epochs = 20,\n",
    "                    batch_size = 512,\n",
    "                    validation_data = (x_val, y_val)\n",
    "                   )"
   ]
  },
  {
   "cell_type": "code",
   "execution_count": 41,
   "metadata": {},
   "outputs": [
    {
     "data": {
      "image/png": "[encoded data removed]",
      "text/plain": [
       "<Figure size 432x288 with 1 Axes>"
      ]
     },
     "metadata": {
      "needs_background": "light"
     },
     "output_type": "display_data"
    }
   ],
   "source": [
    "'''\n",
    "繪製訓練與驗證的損失分數\n",
    "'''\n",
    "import matplotlib.pyplot as plt  #匯入 matplotlib.pyplot 模組, 後續程式用 plt 使用\n",
    "\n",
    "history_dict = history.history\n",
    "loss_values = history_dict['loss']  #取得每次訓練的 loss 訓練損失分數並存成 loss_values 變數\n",
    "val_loss_values = history_dict['val_loss']  #取得每次驗證的 val_loss 驗證損失分數並指定給 val_loss_values 變數\n",
    "\n",
    "\n",
    "epochs = range(1, len(loss_values) + 1)  #len(loss_values) 項目個數為 20,範圍從 1 到 21 (不含 21) 的期間\n",
    "\n",
    "plt.plot(epochs, loss_values, 'bo', label = 'Training loss')  #以 'b' 指定用藍色線條畫出 x 軸為訓練週期、y 軸為驗證損失分數的圖表, 標籤設為驗證損失分數\n",
    "plt.plot(epochs, val_loss_values, 'b', label = 'Validation loss')  #以 'bo' 指定用藍色點點畫出 x 軸為訓練週期、y 軸為訓練損失分數的圖表, 標籤設為訓練損失分數\n",
    "plt.title('Training and validation loss')\n",
    "plt.xlabel('Epochs')  #將此圖表標題的 x 軸設為訓練週期分數\n",
    "plt.ylabel('Loss')  #將此圖表標題的 y 軸設為損失\n",
    "plt.legend()  #可以追加每個輸出圖表的圖像名稱\n",
    "\n",
    "plt.show()  #顯示圖表"
   ]
  },
  {
   "cell_type": "code",
   "execution_count": 42,
   "metadata": {},
   "outputs": [
    {
     "data": {
      "image/png": "[encoded data removed]",
      "text/plain": [
       "<Figure size 432x288 with 1 Axes>"
      ]
     },
     "metadata": {
      "needs_background": "light"
     },
     "output_type": "display_data"
    }
   ],
   "source": [
    "'''\n",
    "繪製訓練和驗證的準確度\n",
    "'''\n",
    "plt.clf()  #清除圖表\n",
    "acc = history_dict['acc']\n",
    "val_acc = history_dict['val_acc']\n",
    "\n",
    "plt.plot(epochs, acc, 'bo', label='Training acc')\n",
    "plt.plot(epochs, val_acc, 'b', label='Validation acc')\n",
    "plt.title('Training and validation accuracy')\n",
    "plt.xlabel('Epochs')\n",
    "plt.ylabel('Accuracy')\n",
    "plt.legend()\n",
    "\n",
    "plt.show()"
   ]
  },
  {
   "cell_type": "code",
   "execution_count": 43,
   "metadata": {},
   "outputs": [
    {
     "name": "stdout",
     "output_type": "stream",
     "text": [
      "Epoch 1/4\n",
      "25000/25000 [==============================] - 64s 3ms/step - loss: 0.4688 - acc: 0.8208\n",
      "Epoch 2/4\n",
      "25000/25000 [==============================] - 17s 674us/step - loss: 0.2662 - acc: 0.9080\n",
      "Epoch 3/4\n",
      "25000/25000 [==============================] - 15s 610us/step - loss: 0.2029 - acc: 0.9283\n",
      "Epoch 4/4\n",
      "25000/25000 [==============================] - 15s 609us/step - loss: 0.1687 - acc: 0.9394\n",
      "25000/25000 [==============================] - 195s 8ms/step\n"
     ]
    }
   ],
   "source": [
    "'''\n",
    "重新開始訓練模型\n",
    "'''\n",
    "model = models.Sequential()  #建立模型\n",
    "model.add(layers.Dense(16, activation = 'relu', input_shape=(10000, )))\n",
    "model.add(layers.Dense(16, activation = 'relu'))\n",
    "model.add(layers.Dense(1, activation = 'sigmoid'))\n",
    "\n",
    "model.compile(optimizer = 'rmsprop',\n",
    "              loss = 'binary_crossentropy',\n",
    "              metrics = ['accuracy'])\n",
    "\n",
    "model.fit(x_train, y_train, epochs = 4, batch_size = 512)  #訓練 4 個週期的神經網路\n",
    "results = model.evaluate(x_test, y_test)  #輸入測試資料與測試標籤進行評估"
   ]
  },
  {
   "cell_type": "code",
   "execution_count": 44,
   "metadata": {},
   "outputs": [
    {
     "data": {
      "text/plain": [
       "[0.2910528731822968, 0.88512]"
      ]
     },
     "execution_count": 44,
     "metadata": {},
     "output_type": "execute_result"
    }
   ],
   "source": [
    "results"
   ]
  },
  {
   "cell_type": "code",
   "execution_count": 45,
   "metadata": {},
   "outputs": [
    {
     "data": {
      "text/plain": [
       "array([[0.18253799],\n",
       "       [0.99996257],\n",
       "       [0.8815568 ],\n",
       "       ...,\n",
       "       [0.0931292 ],\n",
       "       [0.0643963 ],\n",
       "       [0.53191185]], dtype=float32)"
      ]
     },
     "execution_count": 45,
     "metadata": {},
     "output_type": "execute_result"
    }
   ],
   "source": [
    "model.predict(x_test)"
   ]
  }
 ],
 "metadata": {
  "kernelspec": {
   "display_name": "Python 3",
   "language": "python",
   "name": "python3"
  },
  "language_info": {
   "codemirror_mode": {
    "name": "ipython",
    "version": 3
   },
   "file_extension": ".py",
   "mimetype": "text/x-python",
   "name": "python",
   "nbconvert_exporter": "python",
   "pygments_lexer": "ipython3",
   "version": "3.5.6"
  }
 },
 "nbformat": 4,
 "nbformat_minor": 2
}
