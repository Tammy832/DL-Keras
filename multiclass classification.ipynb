{
 "cells": [
  {
   "cell_type": "code",
   "execution_count": 2,
   "metadata": {},
   "outputs": [
    {
     "name": "stdout",
     "output_type": "stream",
     "text": [
      "Downloading data from https://s3.amazonaws.com/text-datasets/reuters.npz\n",
      "2113536/2110848 [==============================] - 2s 1us/step\n"
     ]
    }
   ],
   "source": [
    "'''\n",
    "載入路透社資料集\n",
    "'''\n",
    "from keras.datasets import reuters\n",
    "\n",
    "(train_data, train_labels), (test_data, test_labels) = reuters.load_data(num_words = 10000)"
   ]
  },
  {
   "cell_type": "code",
   "execution_count": null,
   "metadata": {},
   "outputs": [],
   "source": [
    "'''\n",
    "文字解碼新聞專欄\n",
    "'''\n",
    "word_index = reuters.get_word_index()\n",
    "reverse_word_index = dict([(value, key) for (key, value) in word_index.items()])\n",
    "decoded_newswire = ' '.join([reverse_word_index.get(i - 3, 'class:') for i in train_data[0]])"
   ]
  },
  {
   "cell_type": "code",
   "execution_count": 14,
   "metadata": {},
   "outputs": [],
   "source": [
    "'''\n",
    "將資料加以編碼\n",
    "'''\n",
    "import numpy as np\n",
    "\n",
    "def vectorize_sequences(sequences, dimension = 10000): # 此參數將傳入2層的list\n",
    "    results = np.zeros((len(sequences), dimension)) # 建立全為0的矩陣,其形狀為(len(sequences), dimension),其中len(sequences)為樣本數\n",
    "    for i, sequence in enumerate(sequences): # 用enumerate()為每個子串列編號,編號會存到i, 子串列存到sequence\n",
    "        results[i, sequence] = 1. # 將results[i]中的多個元素(以sequence串列的每個元素值為索引)設為1.0\n",
    "    return results\n",
    "\n",
    "x_train = vectorize_sequences(train_data) # 將訓練資料向量化\n",
    "x_test = vectorize_sequences(test_data) # 將測試資料向量化\n",
    "\n",
    "# 標籤向量化\n",
    "'''\n",
    "寫法一\n",
    "def to_one_hot(labels, dimension = 46):\n",
    "    results = np.zeros((len(labels), dimesion))\n",
    "    for i, label in enumerate(labels):\n",
    "        results[i, label] = 1.\n",
    "    return results\n",
    "one_hot_train_labels = to_one_hot(train_labels)\n",
    "one_hot_test_labels = to_one_hot(test_labels)\n",
    "'''\n",
    "\n",
    "'''\n",
    "寫法二\n",
    "'''\n",
    "from keras.utils.np_utils import to_categorical\n",
    "\n",
    "one_hot_train_labels = to_categorical(train_labels)\n",
    "one_hot_test_labels = to_categorical(test_labels)"
   ]
  },
  {
   "cell_type": "code",
   "execution_count": 15,
   "metadata": {},
   "outputs": [],
   "source": [
    "'''\n",
    "模型定義\n",
    "'''\n",
    "from keras import models\n",
    "from keras import layers\n",
    "\n",
    "model = models.Sequential()\n",
    "model.add(layers.Dense(64, activation = 'relu', input_shape = (10000, )))\n",
    "model.add(layers.Dense(64, activation = 'relu'))\n",
    "model.add(layers.Dense(46, activation = 'softmax')) # 亦即將輸出46維的向量"
   ]
  },
  {
   "cell_type": "code",
   "execution_count": 16,
   "metadata": {},
   "outputs": [],
   "source": [
    "'''\n",
    "編譯模型\n",
    "'''\n",
    "model.compile(optimizer = 'rmsprop',\n",
    "              loss = 'categorical_crossentropy',\n",
    "              metrics = ['accuracy'])"
   ]
  },
  {
   "cell_type": "code",
   "execution_count": 19,
   "metadata": {},
   "outputs": [],
   "source": [
    "'''\n",
    "切片驗證資料集\n",
    "'''\n",
    "x_val = x_train[:1000]\n",
    "partial_x_train = x_train[1000:]\n",
    "\n",
    "y_val = one_hot_train_labels[:1000]\n",
    "partial_y_train = one_hot_train_labels[1000:]"
   ]
  },
  {
   "cell_type": "code",
   "execution_count": 20,
   "metadata": {},
   "outputs": [
    {
     "name": "stdout",
     "output_type": "stream",
     "text": [
      "Train on 7982 samples, validate on 1000 samples\n",
      "Epoch 1/20\n",
      "7982/7982 [==============================] - 12s 2ms/step - loss: 2.4994 - acc: 0.4901 - val_loss: 1.6814 - val_acc: 0.6460\n",
      "Epoch 2/20\n",
      "7982/7982 [==============================] - 3s 421us/step - loss: 1.3911 - acc: 0.7040 - val_loss: 1.2782 - val_acc: 0.7180\n",
      "Epoch 3/20\n",
      "7982/7982 [==============================] - 3s 412us/step - loss: 1.0478 - acc: 0.7700 - val_loss: 1.1175 - val_acc: 0.7630\n",
      "Epoch 4/20\n",
      "7982/7982 [==============================] - 3s 412us/step - loss: 0.8238 - acc: 0.8282 - val_loss: 1.0220 - val_acc: 0.7750\n",
      "Epoch 5/20\n",
      "7982/7982 [==============================] - 3s 421us/step - loss: 0.6596 - acc: 0.8637 - val_loss: 0.9704 - val_acc: 0.7960\n",
      "Epoch 6/20\n",
      "7982/7982 [==============================] - 3s 433us/step - loss: 0.5251 - acc: 0.8930 - val_loss: 0.9207 - val_acc: 0.8090\n",
      "Epoch 7/20\n",
      "7982/7982 [==============================] - 4s 480us/step - loss: 0.4289 - acc: 0.9114 - val_loss: 0.9117 - val_acc: 0.8030\n",
      "Epoch 8/20\n",
      "7982/7982 [==============================] - 4s 525us/step - loss: 0.3493 - acc: 0.9280 - val_loss: 0.8952 - val_acc: 0.8160\n",
      "Epoch 9/20\n",
      "7982/7982 [==============================] - 4s 471us/step - loss: 0.2891 - acc: 0.9386 - val_loss: 0.9125 - val_acc: 0.8110s - loss: 0.2838 - acc: 0.93\n",
      "Epoch 10/20\n",
      "7982/7982 [==============================] - 3s 410us/step - loss: 0.2446 - acc: 0.9448 - val_loss: 0.9129 - val_acc: 0.8110\n",
      "Epoch 11/20\n",
      "7982/7982 [==============================] - 3s 409us/step - loss: 0.2104 - acc: 0.9486 - val_loss: 0.9510 - val_acc: 0.8120\n",
      "Epoch 12/20\n",
      "7982/7982 [==============================] - 3s 414us/step - loss: 0.1879 - acc: 0.9530 - val_loss: 0.9595 - val_acc: 0.8030\n",
      "Epoch 13/20\n",
      "7982/7982 [==============================] - 3s 415us/step - loss: 0.1658 - acc: 0.9529 - val_loss: 0.9954 - val_acc: 0.8000\n",
      "Epoch 14/20\n",
      "7982/7982 [==============================] - 3s 418us/step - loss: 0.1532 - acc: 0.9549 - val_loss: 0.9784 - val_acc: 0.8060\n",
      "Epoch 15/20\n",
      "7982/7982 [==============================] - 3s 409us/step - loss: 0.1454 - acc: 0.9549 - val_loss: 1.0200 - val_acc: 0.8000\n",
      "Epoch 16/20\n",
      "7982/7982 [==============================] - 4s 542us/step - loss: 0.1327 - acc: 0.9554 - val_loss: 1.0419 - val_acc: 0.7970\n",
      "Epoch 17/20\n",
      "7982/7982 [==============================] - 4s 521us/step - loss: 0.1256 - acc: 0.9558 - val_loss: 1.0509 - val_acc: 0.7980\n",
      "Epoch 18/20\n",
      "7982/7982 [==============================] - 3s 408us/step - loss: 0.1171 - acc: 0.9563 - val_loss: 1.0381 - val_acc: 0.8120\n",
      "Epoch 19/20\n",
      "7982/7982 [==============================] - 3s 418us/step - loss: 0.1156 - acc: 0.9570 - val_loss: 1.0310 - val_acc: 0.8070\n",
      "Epoch 20/20\n",
      "7982/7982 [==============================] - 3s 409us/step - loss: 0.1136 - acc: 0.9584 - val_loss: 1.0519 - val_acc: 0.8000\n"
     ]
    }
   ],
   "source": [
    "'''\n",
    "訓練模型\n",
    "'''\n",
    "history = model.fit(partial_x_train,\n",
    "                    partial_y_train,\n",
    "                    epochs = 20,\n",
    "                    batch_size = 512,\n",
    "                    validation_data = (x_val, y_val))"
   ]
  },
  {
   "cell_type": "code",
   "execution_count": 23,
   "metadata": {},
   "outputs": [
    {
     "data": {
      "image/png": "[encoded data removed]",
      "text/plain": [
       "<Figure size 432x288 with 1 Axes>"
      ]
     },
     "metadata": {
      "needs_background": "light"
     },
     "output_type": "display_data"
    }
   ],
   "source": [
    "'''\n",
    "繪製訓練和驗證的損失\n",
    "'''\n",
    "import matplotlib.pyplot as plt  #匯入 matplotlib.pyplot 模組, 後續程式用 plt 使用\n",
    "\n",
    "history_dict = history.history\n",
    "loss_values = history_dict['loss']  #取得每次訓練的 loss 訓練損失分數並存成 loss_values 變數\n",
    "val_loss_values = history_dict['val_loss']  #取得每次驗證的 val_loss 驗證損失分數並指定給 val_loss_values 變數\n",
    "\n",
    "\n",
    "epochs = range(1, len(loss_values) + 1)  #len(loss_values) 項目個數為 20,範圍從 1 到 21 (不含 21) 的期間\n",
    "\n",
    "plt.plot(epochs, loss_values, 'bo', label = 'Training loss')  #以 'b' 指定用藍色線條畫出 x 軸為訓練週期、y 軸為驗證損失分數的圖表, 標籤設為驗證損失分數\n",
    "plt.plot(epochs, val_loss_values, 'b', label = 'Validation loss')  #以 'bo' 指定用藍色點點畫出 x 軸為訓練週期、y 軸為訓練損失分數的圖表, 標籤設為訓練損失分數\n",
    "plt.title('Training and validation loss')\n",
    "plt.xlabel('Epochs')  #將此圖表標題的 x 軸設為訓練週期分數\n",
    "plt.ylabel('Loss')  #將此圖表標題的 y 軸設為損失\n",
    "plt.legend()  #可以追加每個輸出圖表的圖像名稱\n",
    "\n",
    "plt.show()  #顯示圖表"
   ]
  },
  {
   "cell_type": "code",
   "execution_count": 22,
   "metadata": {},
   "outputs": [
    {
     "data": {
      "image/png": "[encoded data removed]",
      "text/plain": [
       "<Figure size 432x288 with 1 Axes>"
      ]
     },
     "metadata": {
      "needs_background": "light"
     },
     "output_type": "display_data"
    }
   ],
   "source": [
    "'''\n",
    "繪製訓練和驗證的準確度\n",
    "'''\n",
    "plt.clf()  #清除圖表\n",
    "acc = history_dict['acc']\n",
    "val_acc = history_dict['val_acc']\n",
    "\n",
    "plt.plot(epochs, acc, 'bo', label='Training acc')\n",
    "plt.plot(epochs, val_acc, 'b', label='Validation acc')\n",
    "plt.title('Training and validation accuracy')\n",
    "plt.xlabel('Epochs')\n",
    "plt.ylabel('Accuracy')\n",
    "plt.legend()\n",
    "\n",
    "plt.show()"
   ]
  },
  {
   "cell_type": "code",
   "execution_count": 24,
   "metadata": {},
   "outputs": [
    {
     "name": "stdout",
     "output_type": "stream",
     "text": [
      "Train on 7982 samples, validate on 1000 samples\n",
      "Epoch 1/9\n",
      "7982/7982 [==============================] - 6s 750us/step - loss: 2.5407 - acc: 0.5227 - val_loss: 1.6803 - val_acc: 0.6550\n",
      "Epoch 2/9\n",
      "7982/7982 [==============================] - 3s 414us/step - loss: 1.3775 - acc: 0.7102 - val_loss: 1.2803 - val_acc: 0.7220\n",
      "Epoch 3/9\n",
      "7982/7982 [==============================] - 3s 410us/step - loss: 1.0221 - acc: 0.7780 - val_loss: 1.1356 - val_acc: 0.7490\n",
      "Epoch 4/9\n",
      "7982/7982 [==============================] - 3s 422us/step - loss: 0.8057 - acc: 0.8235 - val_loss: 1.0587 - val_acc: 0.7540\n",
      "Epoch 5/9\n",
      "7982/7982 [==============================] - 3s 419us/step - loss: 0.6453 - acc: 0.8611 - val_loss: 0.9770 - val_acc: 0.7980\n",
      "Epoch 6/9\n",
      "7982/7982 [==============================] - 4s 497us/step - loss: 0.5169 - acc: 0.8915 - val_loss: 0.9120 - val_acc: 0.8120\n",
      "Epoch 7/9\n",
      "7982/7982 [==============================] - 5s 581us/step - loss: 0.4161 - acc: 0.9142 - val_loss: 0.8978 - val_acc: 0.8220\n",
      "Epoch 8/9\n",
      "7982/7982 [==============================] - 3s 432us/step - loss: 0.3384 - acc: 0.9273 - val_loss: 0.8764 - val_acc: 0.8260\n",
      "Epoch 9/9\n",
      "7982/7982 [==============================] - 3s 415us/step - loss: 0.2809 - acc: 0.9370 - val_loss: 0.9412 - val_acc: 0.8010\n",
      "2246/2246 [==============================] - 2s 699us/step\n"
     ]
    }
   ],
   "source": [
    "'''\n",
    "重新開始訓練模型\n",
    "'''\n",
    "\n",
    "model = models.Sequential()\n",
    "model.add(layers.Dense(64, activation = 'relu', input_shape = (10000, )))\n",
    "model.add(layers.Dense(64, activation = 'relu'))\n",
    "model.add(layers.Dense(46, activation = 'softmax')) # 亦即將輸出46維的向量\n",
    "\n",
    "model.compile(optimizer = 'rmsprop',\n",
    "              loss = 'categorical_crossentropy',\n",
    "              metrics = ['accuracy'])\n",
    "\n",
    "history = model.fit(partial_x_train,\n",
    "                    partial_y_train,\n",
    "                    epochs = 9,\n",
    "                    batch_size = 512,\n",
    "                    validation_data = (x_val, y_val))\n",
    "\n",
    "result = model.evaluate(x_test, one_hot_test_labels)"
   ]
  },
  {
   "cell_type": "code",
   "execution_count": 25,
   "metadata": {},
   "outputs": [
    {
     "data": {
      "text/plain": [
       "[1.0247645407835502, 0.7764915405695499]"
      ]
     },
     "execution_count": 25,
     "metadata": {},
     "output_type": "execute_result"
    }
   ],
   "source": [
    "result"
   ]
  },
  {
   "cell_type": "code",
   "execution_count": 26,
   "metadata": {},
   "outputs": [
    {
     "name": "stdout",
     "output_type": "stream",
     "text": [
      "Train on 7982 samples, validate on 1000 samples\n",
      "Epoch 1/20\n",
      "7982/7982 [==============================] - 8s 966us/step - loss: 2.4697 - acc: 0.4617 - val_loss: 1.6104 - val_acc: 0.6200\n",
      "Epoch 2/20\n",
      "7982/7982 [==============================] - 4s 453us/step - loss: 1.4312 - acc: 0.6823 - val_loss: 1.3201 - val_acc: 0.7020\n",
      "Epoch 3/20\n",
      "7982/7982 [==============================] - 4s 441us/step - loss: 1.1074 - acc: 0.7403 - val_loss: 1.1824 - val_acc: 0.7280\n",
      "Epoch 4/20\n",
      "7982/7982 [==============================] - 4s 439us/step - loss: 0.8788 - acc: 0.7969 - val_loss: 1.1505 - val_acc: 0.7340\n",
      "Epoch 5/20\n",
      "7982/7982 [==============================] - 5s 610us/step - loss: 0.7325 - acc: 0.8326 - val_loss: 1.0390 - val_acc: 0.7840\n",
      "Epoch 6/20\n",
      "7982/7982 [==============================] - 5s 592us/step - loss: 0.5780 - acc: 0.8732 - val_loss: 1.0974 - val_acc: 0.7550\n",
      "Epoch 7/20\n",
      "7982/7982 [==============================] - 4s 449us/step - loss: 0.4930 - acc: 0.8885 - val_loss: 1.0263 - val_acc: 0.7950\n",
      "Epoch 8/20\n",
      "7982/7982 [==============================] - 3s 434us/step - loss: 0.3883 - acc: 0.9100 - val_loss: 1.0690 - val_acc: 0.7840\n",
      "Epoch 9/20\n",
      "7982/7982 [==============================] - 4s 500us/step - loss: 0.3412 - acc: 0.9211 - val_loss: 1.0407 - val_acc: 0.8020\n",
      "Epoch 10/20\n",
      "7982/7982 [==============================] - 4s 469us/step - loss: 0.2798 - acc: 0.9335 - val_loss: 1.0767 - val_acc: 0.7980\n",
      "Epoch 11/20\n",
      "7982/7982 [==============================] - 4s 475us/step - loss: 0.2413 - acc: 0.9434 - val_loss: 1.0932 - val_acc: 0.8050\n",
      "Epoch 12/20\n",
      "7982/7982 [==============================] - 5s 586us/step - loss: 0.2020 - acc: 0.9513 - val_loss: 1.1590 - val_acc: 0.7850\n",
      "Epoch 13/20\n",
      "7982/7982 [==============================] - 5s 673us/step - loss: 0.1844 - acc: 0.9531 - val_loss: 1.1598 - val_acc: 0.7830\n",
      "Epoch 14/20\n",
      "7982/7982 [==============================] - 4s 471us/step - loss: 0.1703 - acc: 0.9574 - val_loss: 1.1466 - val_acc: 0.8050\n",
      "Epoch 15/20\n",
      "7982/7982 [==============================] - 4s 462us/step - loss: 0.1681 - acc: 0.9555 - val_loss: 1.2330 - val_acc: 0.7910\n",
      "Epoch 16/20\n",
      "7982/7982 [==============================] - 4s 531us/step - loss: 0.1536 - acc: 0.9536 - val_loss: 1.1628 - val_acc: 0.7920\n",
      "Epoch 17/20\n",
      "7982/7982 [==============================] - 4s 460us/step - loss: 0.1400 - acc: 0.9585 - val_loss: 1.6156 - val_acc: 0.7390\n",
      "Epoch 18/20\n",
      "7982/7982 [==============================] - 3s 432us/step - loss: 0.1419 - acc: 0.9550 - val_loss: 1.3111 - val_acc: 0.7800\n",
      "Epoch 19/20\n",
      "7982/7982 [==============================] - 4s 502us/step - loss: 0.1347 - acc: 0.9564 - val_loss: 1.2982 - val_acc: 0.7780\n",
      "Epoch 20/20\n",
      "7982/7982 [==============================] - 6s 778us/step - loss: 0.1362 - acc: 0.9562 - val_loss: 1.3242 - val_acc: 0.7850\n",
      "2246/2246 [==============================] - 3s 2ms/step\n"
     ]
    }
   ],
   "source": [
    "'''\n",
    "延伸實作: 嘗試多個隱藏層\n",
    "'''\n",
    "model = models.Sequential()\n",
    "model.add(layers.Dense(64, activation = 'relu', input_shape = (10000, )))\n",
    "model.add(layers.Dense(64, activation = 'relu'))\n",
    "model.add(layers.Dense(64, activation = 'relu'))\n",
    "model.add(layers.Dense(64, activation = 'relu'))\n",
    "model.add(layers.Dense(46, activation = 'softmax')) # 亦即將輸出46維的向量\n",
    "\n",
    "model.compile(optimizer = 'rmsprop',\n",
    "              loss = 'categorical_crossentropy',\n",
    "              metrics = ['accuracy'])\n",
    "\n",
    "history = model.fit(partial_x_train,\n",
    "                    partial_y_train,\n",
    "                    epochs = 20,\n",
    "                    batch_size = 512,\n",
    "                    validation_data = (x_val, y_val))\n",
    "\n",
    "result = model.evaluate(x_test, one_hot_test_labels)"
   ]
  },
  {
   "cell_type": "code",
   "execution_count": 27,
   "metadata": {},
   "outputs": [
    {
     "data": {
      "text/plain": [
       "[1.4851876058858733, 0.7653606410867279]"
      ]
     },
     "execution_count": 27,
     "metadata": {},
     "output_type": "execute_result"
    }
   ],
   "source": [
    "result"
   ]
  },
  {
   "cell_type": "code",
   "execution_count": 28,
   "metadata": {},
   "outputs": [
    {
     "name": "stdout",
     "output_type": "stream",
     "text": [
      "Train on 7982 samples, validate on 1000 samples\n",
      "Epoch 1/20\n",
      "7982/7982 [==============================] - 6s 803us/step - loss: 2.4962 - acc: 0.5631 - val_loss: 1.7563 - val_acc: 0.6680\n",
      "Epoch 2/20\n",
      "7982/7982 [==============================] - 4s 441us/step - loss: 1.4232 - acc: 0.7244 - val_loss: 1.3260 - val_acc: 0.7220\n",
      "Epoch 3/20\n",
      "7982/7982 [==============================] - 4s 488us/step - loss: 1.0477 - acc: 0.7861 - val_loss: 1.1270 - val_acc: 0.7670\n",
      "Epoch 4/20\n",
      "7982/7982 [==============================] - 5s 580us/step - loss: 0.8237 - acc: 0.8329 - val_loss: 1.0059 - val_acc: 0.7880\n",
      "Epoch 5/20\n",
      "7982/7982 [==============================] - 5s 590us/step - loss: 0.6649 - acc: 0.8681 - val_loss: 0.9414 - val_acc: 0.8040\n",
      "Epoch 6/20\n",
      "7982/7982 [==============================] - 4s 508us/step - loss: 0.5458 - acc: 0.8916 - val_loss: 0.8901 - val_acc: 0.8140\n",
      "Epoch 7/20\n",
      "7982/7982 [==============================] - 3s 419us/step - loss: 0.4503 - acc: 0.9095 - val_loss: 0.8607 - val_acc: 0.8220\n",
      "Epoch 8/20\n",
      "7982/7982 [==============================] - 3s 418us/step - loss: 0.3747 - acc: 0.9255 - val_loss: 0.8368 - val_acc: 0.8230\n",
      "Epoch 9/20\n",
      "7982/7982 [==============================] - 3s 433us/step - loss: 0.3168 - acc: 0.9346 - val_loss: 0.8258 - val_acc: 0.8250\n",
      "Epoch 10/20\n",
      "7982/7982 [==============================] - 4s 440us/step - loss: 0.2690 - acc: 0.9415 - val_loss: 0.8295 - val_acc: 0.8250\n",
      "Epoch 11/20\n",
      "7982/7982 [==============================] - 4s 454us/step - loss: 0.2317 - acc: 0.9451 - val_loss: 0.8291 - val_acc: 0.8200\n",
      "Epoch 12/20\n",
      "7982/7982 [==============================] - 4s 504us/step - loss: 0.2024 - acc: 0.9514 - val_loss: 0.8353 - val_acc: 0.8270\n",
      "Epoch 13/20\n",
      "7982/7982 [==============================] - 5s 573us/step - loss: 0.1800 - acc: 0.9521 - val_loss: 0.8401 - val_acc: 0.8220\n",
      "Epoch 14/20\n",
      "7982/7982 [==============================] - 4s 465us/step - loss: 0.1623 - acc: 0.9545 - val_loss: 0.8494 - val_acc: 0.8230\n",
      "Epoch 15/20\n",
      "7982/7982 [==============================] - 4s 467us/step - loss: 0.1486 - acc: 0.9562 - val_loss: 0.8673 - val_acc: 0.8210\n",
      "Epoch 16/20\n",
      "7982/7982 [==============================] - 3s 438us/step - loss: 0.1379 - acc: 0.9554 - val_loss: 0.8711 - val_acc: 0.8230\n",
      "Epoch 17/20\n",
      "7982/7982 [==============================] - 4s 439us/step - loss: 0.1269 - acc: 0.9570 - val_loss: 0.9116 - val_acc: 0.8110\n",
      "Epoch 18/20\n",
      "7982/7982 [==============================] - 3s 414us/step - loss: 0.1205 - acc: 0.9565 - val_loss: 0.8955 - val_acc: 0.8120\n",
      "Epoch 19/20\n",
      "7982/7982 [==============================] - 3s 432us/step - loss: 0.1152 - acc: 0.9551 - val_loss: 0.9084 - val_acc: 0.8190\n",
      "Epoch 20/20\n",
      "7982/7982 [==============================] - 4s 506us/step - loss: 0.1089 - acc: 0.9582 - val_loss: 0.9193 - val_acc: 0.8160\n",
      "2246/2246 [==============================] - 3s 1ms/step\n"
     ]
    }
   ],
   "source": [
    "'''\n",
    "延伸實作: 嘗試一個隱藏層\n",
    "'''\n",
    "model = models.Sequential()\n",
    "model.add(layers.Dense(64, activation = 'relu', input_shape = (10000, )))\n",
    "model.add(layers.Dense(46, activation = 'softmax')) # 亦即將輸出46維的向量\n",
    "\n",
    "model.compile(optimizer = 'rmsprop',\n",
    "              loss = 'categorical_crossentropy',\n",
    "              metrics = ['accuracy'])\n",
    "\n",
    "history = model.fit(partial_x_train,\n",
    "                    partial_y_train,\n",
    "                    epochs = 20,\n",
    "                    batch_size = 512,\n",
    "                    validation_data = (x_val, y_val))\n",
    "\n",
    "result = model.evaluate(x_test, one_hot_test_labels)"
   ]
  },
  {
   "cell_type": "code",
   "execution_count": 29,
   "metadata": {},
   "outputs": [
    {
     "data": {
      "text/plain": [
       "[1.0672371625263353, 0.7898486197950154]"
      ]
     },
     "execution_count": 29,
     "metadata": {},
     "output_type": "execute_result"
    }
   ],
   "source": [
    "result"
   ]
  },
  {
   "cell_type": "code",
   "execution_count": 30,
   "metadata": {},
   "outputs": [
    {
     "name": "stdout",
     "output_type": "stream",
     "text": [
      "Train on 7982 samples, validate on 1000 samples\n",
      "Epoch 1/20\n",
      "7982/7982 [==============================] - 8s 967us/step - loss: 3.1923 - acc: 0.4037 - val_loss: 2.5414 - val_acc: 0.5570\n",
      "Epoch 2/20\n",
      "7982/7982 [==============================] - 3s 391us/step - loss: 2.0908 - acc: 0.6377 - val_loss: 1.8182 - val_acc: 0.6450\n",
      "Epoch 3/20\n",
      "7982/7982 [==============================] - 3s 361us/step - loss: 1.5361 - acc: 0.7036 - val_loss: 1.4661 - val_acc: 0.6920\n",
      "Epoch 4/20\n",
      "7982/7982 [==============================] - 3s 359us/step - loss: 1.2339 - acc: 0.7446 - val_loss: 1.2773 - val_acc: 0.7240\n",
      "Epoch 5/20\n",
      "7982/7982 [==============================] - 3s 413us/step - loss: 1.0323 - acc: 0.7805 - val_loss: 1.1643 - val_acc: 0.7400\n",
      "Epoch 6/20\n",
      "7982/7982 [==============================] - 3s 364us/step - loss: 0.8845 - acc: 0.8087 - val_loss: 1.0804 - val_acc: 0.7650\n",
      "Epoch 7/20\n",
      "7982/7982 [==============================] - 3s 430us/step - loss: 0.7644 - acc: 0.8343 - val_loss: 1.0421 - val_acc: 0.7780\n",
      "Epoch 8/20\n",
      "7982/7982 [==============================] - 4s 552us/step - loss: 0.6618 - acc: 0.8583 - val_loss: 0.9902 - val_acc: 0.7880\n",
      "Epoch 9/20\n",
      "7982/7982 [==============================] - 7s 849us/step - loss: 0.5749 - acc: 0.8799 - val_loss: 0.9587 - val_acc: 0.7970\n",
      "Epoch 10/20\n",
      "7982/7982 [==============================] - 4s 542us/step - loss: 0.4993 - acc: 0.8971 - val_loss: 0.9380 - val_acc: 0.8070\n",
      "Epoch 11/20\n",
      "7982/7982 [==============================] - 4s 559us/step - loss: 0.4332 - acc: 0.9132 - val_loss: 0.9367 - val_acc: 0.8020\n",
      "Epoch 12/20\n",
      "7982/7982 [==============================] - 3s 423us/step - loss: 0.3793 - acc: 0.9230 - val_loss: 0.9239 - val_acc: 0.8090\n",
      "Epoch 13/20\n",
      "7982/7982 [==============================] - 4s 511us/step - loss: 0.3298 - acc: 0.9320 - val_loss: 0.9388 - val_acc: 0.8070\n",
      "Epoch 14/20\n",
      "7982/7982 [==============================] - 3s 370us/step - loss: 0.2914 - acc: 0.9360 - val_loss: 0.9260 - val_acc: 0.8070\n",
      "Epoch 15/20\n",
      "7982/7982 [==============================] - 3s 355us/step - loss: 0.2584 - acc: 0.9437 - val_loss: 0.9278 - val_acc: 0.8050\n",
      "Epoch 16/20\n",
      "7982/7982 [==============================] - 4s 525us/step - loss: 0.2294 - acc: 0.9465 - val_loss: 0.9365 - val_acc: 0.8090\n",
      "Epoch 17/20\n",
      "7982/7982 [==============================] - 4s 501us/step - loss: 0.2070 - acc: 0.9500 - val_loss: 0.9469 - val_acc: 0.8110\n",
      "Epoch 18/20\n",
      "7982/7982 [==============================] - 3s 413us/step - loss: 0.1893 - acc: 0.9508 - val_loss: 0.9549 - val_acc: 0.8190\n",
      "Epoch 19/20\n",
      "7982/7982 [==============================] - 3s 362us/step - loss: 0.1716 - acc: 0.9541 - val_loss: 0.9748 - val_acc: 0.8100\n",
      "Epoch 20/20\n",
      "7982/7982 [==============================] - 4s 451us/step - loss: 0.1582 - acc: 0.9543 - val_loss: 1.0022 - val_acc: 0.8030\n",
      "2246/2246 [==============================] - 2s 995us/step\n"
     ]
    }
   ],
   "source": [
    "'''\n",
    "延伸實作: 嘗試用更小的層, ex. 32 units or 128 units\n",
    "'''\n",
    "model = models.Sequential()\n",
    "model.add(layers.Dense(32, activation = 'relu', input_shape = (10000, )))\n",
    "model.add(layers.Dense(32, activation = 'relu'))\n",
    "model.add(layers.Dense(46, activation = 'softmax')) # 亦即將輸出46維的向量\n",
    "\n",
    "model.compile(optimizer = 'rmsprop',\n",
    "              loss = 'categorical_crossentropy',\n",
    "              metrics = ['accuracy'])\n",
    "\n",
    "history = model.fit(partial_x_train,\n",
    "                    partial_y_train,\n",
    "                    epochs = 20,\n",
    "                    batch_size = 512,\n",
    "                    validation_data = (x_val, y_val))\n",
    "\n",
    "result = model.evaluate(x_test, one_hot_test_labels)"
   ]
  },
  {
   "cell_type": "code",
   "execution_count": 31,
   "metadata": {},
   "outputs": [
    {
     "data": {
      "text/plain": [
       "[1.1270889225328806, 0.7845057881207521]"
      ]
     },
     "execution_count": 31,
     "metadata": {},
     "output_type": "execute_result"
    }
   ],
   "source": [
    "result"
   ]
  },
  {
   "cell_type": "code",
   "execution_count": 32,
   "metadata": {},
   "outputs": [
    {
     "name": "stdout",
     "output_type": "stream",
     "text": [
      "Train on 7982 samples, validate on 1000 samples\n",
      "Epoch 1/20\n",
      "7982/7982 [==============================] - 10s 1ms/step - loss: 2.3322 - acc: 0.5517 - val_loss: 1.4440 - val_acc: 0.6910\n",
      "Epoch 2/20\n",
      "7982/7982 [==============================] - 7s 902us/step - loss: 1.1550 - acc: 0.7503 - val_loss: 1.1086 - val_acc: 0.7640\n",
      "Epoch 3/20\n",
      "7982/7982 [==============================] - 6s 770us/step - loss: 0.7950 - acc: 0.8312 - val_loss: 0.9824 - val_acc: 0.7900\n",
      "Epoch 4/20\n",
      "7982/7982 [==============================] - 5s 650us/step - loss: 0.5730 - acc: 0.8812 - val_loss: 0.8870 - val_acc: 0.8150\n",
      "Epoch 5/20\n",
      "7982/7982 [==============================] - 6s 704us/step - loss: 0.4236 - acc: 0.9124 - val_loss: 0.8719 - val_acc: 0.8180\n",
      "Epoch 6/20\n",
      "7982/7982 [==============================] - 6s 813us/step - loss: 0.3178 - acc: 0.9300 - val_loss: 0.9178 - val_acc: 0.8110\n",
      "Epoch 7/20\n",
      "7982/7982 [==============================] - 11s 1ms/step - loss: 0.2552 - acc: 0.9412 - val_loss: 0.8840 - val_acc: 0.8210\n",
      "Epoch 8/20\n",
      "7982/7982 [==============================] - 5s 667us/step - loss: 0.2110 - acc: 0.9464 - val_loss: 0.9107 - val_acc: 0.8150\n",
      "Epoch 9/20\n",
      "7982/7982 [==============================] - 5s 672us/step - loss: 0.1827 - acc: 0.9535 - val_loss: 0.9467 - val_acc: 0.8120\n",
      "Epoch 10/20\n",
      "7982/7982 [==============================] - 10s 1ms/step - loss: 0.1619 - acc: 0.9536 - val_loss: 1.0097 - val_acc: 0.7920\n",
      "Epoch 11/20\n",
      "7982/7982 [==============================] - 9s 1ms/step - loss: 0.1496 - acc: 0.9557 - val_loss: 0.9702 - val_acc: 0.8040\n",
      "Epoch 12/20\n",
      "7982/7982 [==============================] - 12s 2ms/step - loss: 0.1404 - acc: 0.9550 - val_loss: 0.9654 - val_acc: 0.8060\n",
      "Epoch 13/20\n",
      "7982/7982 [==============================] - 6s 730us/step - loss: 0.1370 - acc: 0.9553 - val_loss: 1.0204 - val_acc: 0.8000\n",
      "Epoch 14/20\n",
      "7982/7982 [==============================] - 6s 710us/step - loss: 0.1271 - acc: 0.9572 - val_loss: 0.9979 - val_acc: 0.8090\n",
      "Epoch 15/20\n",
      "7982/7982 [==============================] - 7s 869us/step - loss: 0.1205 - acc: 0.9579 - val_loss: 1.0394 - val_acc: 0.8060\n",
      "Epoch 16/20\n",
      "7982/7982 [==============================] - 5s 672us/step - loss: 0.1177 - acc: 0.9582 - val_loss: 1.0044 - val_acc: 0.8190\n",
      "Epoch 17/20\n",
      "7982/7982 [==============================] - 5s 658us/step - loss: 0.1136 - acc: 0.9585 - val_loss: 1.0152 - val_acc: 0.8120\n",
      "Epoch 18/20\n",
      "7982/7982 [==============================] - 7s 916us/step - loss: 0.1186 - acc: 0.9578 - val_loss: 1.0435 - val_acc: 0.8080\n",
      "Epoch 19/20\n",
      "7982/7982 [==============================] - 7s 893us/step - loss: 0.1120 - acc: 0.9570 - val_loss: 1.0140 - val_acc: 0.8140\n",
      "Epoch 20/20\n",
      "7982/7982 [==============================] - 6s 790us/step - loss: 0.1122 - acc: 0.9565 - val_loss: 1.0751 - val_acc: 0.8060\n",
      "2246/2246 [==============================] - 4s 2ms/step\n"
     ]
    }
   ],
   "source": [
    "'''\n",
    "延伸實作: 嘗試用更大的層, ex. 128 units\n",
    "'''\n",
    "model = models.Sequential()\n",
    "model.add(layers.Dense(128, activation = 'relu', input_shape = (10000, )))\n",
    "model.add(layers.Dense(128, activation = 'relu'))\n",
    "model.add(layers.Dense(46, activation = 'softmax')) # 亦即將輸出46維的向量\n",
    "\n",
    "model.compile(optimizer = 'rmsprop',\n",
    "              loss = 'categorical_crossentropy',\n",
    "              metrics = ['accuracy'])\n",
    "\n",
    "history = model.fit(partial_x_train,\n",
    "                    partial_y_train,\n",
    "                    epochs = 20,\n",
    "                    batch_size = 512,\n",
    "                    validation_data = (x_val, y_val))\n",
    "\n",
    "result = model.evaluate(x_test, one_hot_test_labels)"
   ]
  },
  {
   "cell_type": "code",
   "execution_count": 33,
   "metadata": {},
   "outputs": [
    {
     "data": {
      "text/plain": [
       "[1.2365807045387138, 0.7902938557966204]"
      ]
     },
     "execution_count": 33,
     "metadata": {},
     "output_type": "execute_result"
    }
   ],
   "source": [
    "result"
   ]
  }
 ],
 "metadata": {
  "kernelspec": {
   "display_name": "Python 3",
   "language": "python",
   "name": "python3"
  },
  "language_info": {
   "codemirror_mode": {
    "name": "ipython",
    "version": 3
   },
   "file_extension": ".py",
   "mimetype": "text/x-python",
   "name": "python",
   "nbconvert_exporter": "python",
   "pygments_lexer": "ipython3",
   "version": "3.5.6"
  }
 },
 "nbformat": 4,
 "nbformat_minor": 2
}
